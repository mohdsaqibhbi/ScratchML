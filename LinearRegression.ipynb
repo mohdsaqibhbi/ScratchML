{
 "cells": [
  {
   "cell_type": "code",
   "execution_count": 1,
   "metadata": {},
   "outputs": [],
   "source": [
    "import numpy as np\n",
    "import matplotlib.pyplot as plt\n",
    "\n",
    "import warnings\n",
    "warnings.filterwarnings('ignore')"
   ]
  },
  {
   "cell_type": "markdown",
   "metadata": {},
   "source": [
    "## Linear Regression"
   ]
  },
  {
   "cell_type": "code",
   "execution_count": 2,
   "metadata": {},
   "outputs": [],
   "source": [
    "class LinearRegression:\n",
    "        \n",
    "    def forward(self, x):\n",
    "    \n",
    "        # shape(#samples, 1)\n",
    "        return ((np.dot(x, self.weight)) + self.bias)\n",
    "    \n",
    "    def leastSquare(self, y, y_hat):\n",
    "        \n",
    "        # shape(#samples, 1)\n",
    "        return (y_hat - y)**2\n",
    "    \n",
    "    def cost(self, y, y_hat):\n",
    "        \n",
    "        # scalar\n",
    "        return (np.sum(self.leastSquare(y, y_hat)))/(2*y.shape[0])\n",
    "        \n",
    "    def train(self, x, y, alpha, epoch, random_state=-1):\n",
    "        \n",
    "        # x : shape(#samples, #features)\n",
    "        # y : shape(#samples, 1)\n",
    "        \n",
    "        m, n = x.shape[0], x.shape[1]\n",
    "        \n",
    "        if random_state != -1:\n",
    "            np.random.seed(random_state)\n",
    "        \n",
    "        # shape(#features, 1)\n",
    "        self.weight = np.random.randn(n,1)\n",
    "\n",
    "        # shape(1,1)\n",
    "        self.bias = np.zeros((1,1))\n",
    "        \n",
    "        self.epoch = epoch\n",
    "        \n",
    "        self.cost_list = []\n",
    "        \n",
    "        for i in range(epoch):\n",
    "            \n",
    "            # shape(#samples, 1)\n",
    "            y_hat = self.forward(x)\n",
    "    \n",
    "            # scalar\n",
    "            loss = self.cost(y, y_hat)\n",
    "\n",
    "            self.cost_list.append(loss)\n",
    "\n",
    "            # Gradient\n",
    "            # dL_dw : dLoss/dweight (#features, 1)\n",
    "            dL_dw = (np.dot(x.T, (y_hat - y)))/m\n",
    "\n",
    "            # dL_db : dLoss/dbias (1, 1)\n",
    "            dL_db = np.sum((y_hat - y)/m)\n",
    "\n",
    "            # shape(#features, 1)\n",
    "            self.weight = self.weight - (alpha * dL_dw)\n",
    "\n",
    "            # shape(1, 1)\n",
    "            self.bias = self.bias - (alpha * dL_db)\n",
    "            \n",
    "    def plot_convergence(self):\n",
    "        \n",
    "        plt.plot([i for i in range(self.epoch)], self.cost_list)\n",
    "        plt.xlabel('Epochs'); plt.ylabel('Mean Squared Error')\n",
    "        \n",
    "    def predict(self, x_test):\n",
    "        \n",
    "        # shape(#samples, 1)\n",
    "        return self.forward(x_test)"
   ]
  },
  {
   "cell_type": "markdown",
   "metadata": {},
   "source": [
    "### Utils"
   ]
  },
  {
   "cell_type": "code",
   "execution_count": 3,
   "metadata": {},
   "outputs": [],
   "source": [
    "def randomDataset(m, n, random_state=-1):\n",
    "    \n",
    "    if random_state != -1:\n",
    "        np.random.seed(random_state)\n",
    "        \n",
    "    x = np.random.randn(m, n)\n",
    "    slope = np.random.randn(n, 1)\n",
    "    epsilon = np.random.randn(1, 1)\n",
    "    y = np.dot(x, slope) + epsilon\n",
    "    print(slope, epsilon)\n",
    "    \n",
    "    return x, y"
   ]
  },
  {
   "cell_type": "code",
   "execution_count": 4,
   "metadata": {},
   "outputs": [],
   "source": [
    "def train_test_split(x, y, size=0.2, random_state=-1):\n",
    "    \n",
    "    if random_state != -1:\n",
    "        np.random.seed(random_state)\n",
    "        \n",
    "    x_val = x[:int(len(x)*size)]\n",
    "    y_val = y[:int(len(x)*size)]\n",
    "    x_train = x[int(len(x)*size):]\n",
    "    y_train = y[int(len(x)*size):]\n",
    "    \n",
    "    return x_train, y_train, x_val, y_val"
   ]
  },
  {
   "cell_type": "markdown",
   "metadata": {},
   "source": [
    "### Metrics"
   ]
  },
  {
   "cell_type": "code",
   "execution_count": 5,
   "metadata": {},
   "outputs": [],
   "source": [
    "def rss(y, y_hat):\n",
    "    \n",
    "    return np.sum((y-y_hat)**2)\n",
    "\n",
    "def tss(y):\n",
    "    \n",
    "    return np.sum((y-y.mean())**2)\n",
    "\n",
    "def r2(y, y_hat):\n",
    "    \n",
    "    return (1 - (rss(y, y_hat)/tss(y)))\n",
    "\n",
    "def rmse(y, y_hat):\n",
    "    \n",
    "    return np.sqrt(np.mean((y-y_hat)**2))"
   ]
  },
  {
   "cell_type": "markdown",
   "metadata": {},
   "source": [
    "# Train Model on Dummy data"
   ]
  },
  {
   "cell_type": "markdown",
   "metadata": {},
   "source": [
    "## Data Preparation"
   ]
  },
  {
   "cell_type": "markdown",
   "metadata": {},
   "source": [
    "#### Create data"
   ]
  },
  {
   "cell_type": "code",
   "execution_count": 6,
   "metadata": {},
   "outputs": [
    {
     "name": "stdout",
     "output_type": "stream",
     "text": [
      "[[-1.53292105]\n",
      " [-1.71197016]] [[0.04613506]]\n"
     ]
    }
   ],
   "source": [
    "x, y = randomDataset(1000, 2, random_state=0)"
   ]
  },
  {
   "cell_type": "markdown",
   "metadata": {},
   "source": [
    "#### Split data"
   ]
  },
  {
   "cell_type": "code",
   "execution_count": 7,
   "metadata": {},
   "outputs": [],
   "source": [
    "x_train, y_train, x_val, y_val = train_test_split(x, y, size=0.2, random_state=0)"
   ]
  },
  {
   "cell_type": "markdown",
   "metadata": {},
   "source": [
    "## Train"
   ]
  },
  {
   "cell_type": "code",
   "execution_count": 8,
   "metadata": {},
   "outputs": [],
   "source": [
    "l = LinearRegression()"
   ]
  },
  {
   "cell_type": "code",
   "execution_count": 9,
   "metadata": {},
   "outputs": [
    {
     "data": {
      "text/plain": [
       "(array([[-1.52376821],\n",
       "        [-1.70685461]]),\n",
       " array([[0.04697657]]))"
      ]
     },
     "execution_count": 9,
     "metadata": {},
     "output_type": "execute_result"
    },
    {
     "data": {
      "image/png": "[encoded data removed]",
      "text/plain": [
       "<Figure size 432x288 with 1 Axes>"
      ]
     },
     "metadata": {
      "needs_background": "light"
     },
     "output_type": "display_data"
    }
   ],
   "source": [
    "l.train(x_train, y_train, 0.1, 60, random_state=0)\n",
    "l.plot_convergence()\n",
    "l.weight, l.bias"
   ]
  },
  {
   "cell_type": "markdown",
   "metadata": {},
   "source": [
    "## Evaluate on validation data"
   ]
  },
  {
   "cell_type": "code",
   "execution_count": 10,
   "metadata": {},
   "outputs": [
    {
     "name": "stdout",
     "output_type": "stream",
     "text": [
      "0.010208016712526557 0.999978789105671\n"
     ]
    }
   ],
   "source": [
    "y_hat = l.predict(x_val)\n",
    "print(rmse(y_val, y_hat), r2(y_val, y_hat))"
   ]
  },
  {
   "cell_type": "markdown",
   "metadata": {},
   "source": [
    "# Cross check with sklearn"
   ]
  },
  {
   "cell_type": "markdown",
   "metadata": {},
   "source": [
    "## Train"
   ]
  },
  {
   "cell_type": "code",
   "execution_count": 15,
   "metadata": {},
   "outputs": [
    {
     "name": "stdout",
     "output_type": "stream",
     "text": [
      "[[-1.53292105 -1.71197016]] [0.04613506]\n"
     ]
    }
   ],
   "source": [
    "from sklearn.linear_model import LinearRegression\n",
    "lr = LinearRegression()\n",
    "lr.fit(x_train, y_train)\n",
    "print(lr.coef_, lr.intercept_)"
   ]
  },
  {
   "cell_type": "markdown",
   "metadata": {},
   "source": [
    "## Evaluate on validation data"
   ]
  },
  {
   "cell_type": "code",
   "execution_count": 16,
   "metadata": {},
   "outputs": [
    {
     "name": "stdout",
     "output_type": "stream",
     "text": [
      "7.284401114987283e-16 1.0\n"
     ]
    }
   ],
   "source": [
    "y_hat = lr.predict(x_val)\n",
    "print(rmse(y_val, y_hat), r2(y_val, y_hat))"
   ]
  },
  {
   "cell_type": "code",
   "execution_count": null,
   "metadata": {},
   "outputs": [],
   "source": [
    "lr."
   ]
  }
 ],
 "metadata": {
  "kernelspec": {
   "display_name": "Python 3",
   "language": "python",
   "name": "python3"
  },
  "language_info": {
   "codemirror_mode": {
    "name": "ipython",
    "version": 3
   },
   "file_extension": ".py",
   "mimetype": "text/x-python",
   "name": "python",
   "nbconvert_exporter": "python",
   "pygments_lexer": "ipython3",
   "version": "3.7.4"
  }
 },
 "nbformat": 4,
 "nbformat_minor": 2
}
