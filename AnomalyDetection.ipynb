{
 "cells": [
  {
   "cell_type": "code",
   "execution_count": 1,
   "metadata": {},
   "outputs": [],
   "source": [
    "import numpy as np\n",
    "import pandas as pd\n",
    "import matplotlib.pyplot as plt\n",
    "from sklearn.metrics import f1_score\n",
    "\n",
    "import warnings\n",
    "warnings.filterwarnings('ignore')"
   ]
  },
  {
   "cell_type": "markdown",
   "metadata": {},
   "source": [
    "# Anomaly Detection"
   ]
  },
  {
   "cell_type": "code",
   "execution_count": 2,
   "metadata": {},
   "outputs": [],
   "source": [
    "class AnomalyDetection():\n",
    "    \n",
    "    def __init__(self, kind='default'):\n",
    "        \n",
    "        self.kind = kind\n",
    "        \n",
    "    def estimateGaussian(self, data):\n",
    "        \n",
    "        self.mean = data.mean(axis=0)\n",
    "        if self.kind == 'multi':\n",
    "            self.sigma = np.cov(data.T)\n",
    "            self.sigma_det = np.linalg.det(self.sigma)\n",
    "            self.sigma_inv = np.linalg.inv(self.sigma)\n",
    "        else:\n",
    "            self.sigma = np.std(data, axis=0)\n",
    "            \n",
    "    def univariate(self, data):\n",
    "    \n",
    "        upper_term = (np.exp((-((data - self.mean)**2) / (2*(self.sigma**2)))))\n",
    "        lower_term = (np.sqrt(2*np.pi) * self.sigma)\n",
    "\n",
    "        prob = upper_term / lower_term\n",
    "\n",
    "        return (np.prod(prob, axis=1))\n",
    "    \n",
    "    def multivariateGaussian(self, data):\n",
    "\n",
    "        n = data.shape[1]\n",
    "        \n",
    "        upper_term = (np.exp(-(((data - self.mean).dot(self.sigma_inv)).dot((data - self.mean).T)) / 2))\n",
    "        lower_term = (((2*np.pi)**(n/2))*((self.sigma_det)**(0.5)))\n",
    "\n",
    "        prob = upper_term / lower_term\n",
    "\n",
    "        return prob\n",
    "    \n",
    "    def getProb(self, data):\n",
    "        \n",
    "        if self.kind == 'multi':\n",
    "            prob = [(self.multivariateGaussian(sample.reshape(1, -1)))[0, 0] for sample in data]\n",
    "            return np.array(prob)\n",
    "        else:\n",
    "            return self.univariate(data)\n",
    "    \n",
    "    def optimalThreshold(self, val_x, val_y):\n",
    "        \n",
    "        prob = self.getProb(val_x)\n",
    "    \n",
    "        stepsize = (np.max(prob) - np.min(prob))/1000\n",
    "        epsilon = np.arange(np.min(prob), np.max(prob), stepsize)\n",
    "        epsilon = epsilon[::-1]\n",
    "\n",
    "        pred = np.where(prob < epsilon[:, np.newaxis], 1, 0)\n",
    "\n",
    "        F1 = np.array([f1_score(val_y, pred[i]) for i in range(len(pred))])\n",
    "\n",
    "        return epsilon[F1.argmax()], F1.max()\n",
    "    \n",
    "    def predict(self, val_x, threshold):\n",
    "        \n",
    "        prob = self.getProb(val_x)\n",
    "        \n",
    "        return np.where(prob < threshold, 1, 0)"
   ]
  },
  {
   "cell_type": "markdown",
   "metadata": {},
   "source": [
    "## Data Preparation"
   ]
  },
  {
   "cell_type": "markdown",
   "metadata": {},
   "source": [
    "**Feature x1's range :** 1 ~ 10\n",
    "\n",
    "**Feature x2's range :** 1 ~ 15\n",
    "\n",
    "**Feature x3's range :** 20 ~ 50\n",
    "\n",
    "Any value out of these ranges would be marked as anomaly (outlier).\n",
    "\n",
    "**Labels**\n",
    "\n",
    "Anomaly : 1 | Not Anomaly : 0"
   ]
  },
  {
   "cell_type": "code",
   "execution_count": 3,
   "metadata": {},
   "outputs": [
    {
     "name": "stdout",
     "output_type": "stream",
     "text": [
      "(1000, 3)\n"
     ]
    },
    {
     "data": {
      "text/plain": [
       "array([[ 6,  9, 21],\n",
       "       [ 1,  2, 42],\n",
       "       [ 4,  7, 41],\n",
       "       ...,\n",
       "       [ 4,  8, 21],\n",
       "       [ 5,  8, 30],\n",
       "       [ 4,  5, 26]])"
      ]
     },
     "execution_count": 3,
     "metadata": {},
     "output_type": "execute_result"
    }
   ],
   "source": [
    "np.random.seed(0)\n",
    "\n",
    "m = 1000\n",
    "\n",
    "x1 = np.random.randint(1, 10, size=m)\n",
    "x2 = x1 + np.random.randint(1, 5, size=m)\n",
    "x3 = np.random.randint(20, 50, size=m)\n",
    "train_x = np.array([x1, x2, x3]).T\n",
    "print(train_x.shape)\n",
    "train_x"
   ]
  },
  {
   "cell_type": "markdown",
   "metadata": {},
   "source": [
    "## Train"
   ]
  },
  {
   "cell_type": "markdown",
   "metadata": {},
   "source": [
    "Train using Multivariate Gaussian."
   ]
  },
  {
   "cell_type": "code",
   "execution_count": 4,
   "metadata": {},
   "outputs": [],
   "source": [
    "a = AnomalyDetection(kind='multi')\n",
    "a.estimateGaussian(train_x)"
   ]
  },
  {
   "cell_type": "markdown",
   "metadata": {},
   "source": [
    "## Validation evaluation"
   ]
  },
  {
   "cell_type": "markdown",
   "metadata": {},
   "source": [
    "#### Validation dataset"
   ]
  },
  {
   "cell_type": "code",
   "execution_count": 5,
   "metadata": {},
   "outputs": [],
   "source": [
    "val_x = np.array([[20, 25, 50], [30, 21, 40], [8, 11, 32], [6, 8, 45], [6, 9, 40], [40, 9, 17], [4, 7, 21], [1, 3, 30]])\n",
    "val_y = np.array([1, 1, 0, 0, 0, 1, 0, 0])"
   ]
  },
  {
   "cell_type": "markdown",
   "metadata": {},
   "source": [
    "#### Finding Optimal threshold"
   ]
  },
  {
   "cell_type": "code",
   "execution_count": 6,
   "metadata": {},
   "outputs": [
    {
     "data": {
      "text/plain": [
       "(0.0006151806824039895, 1.0)"
      ]
     },
     "execution_count": 6,
     "metadata": {},
     "output_type": "execute_result"
    }
   ],
   "source": [
    "threshold, F1 = a.optimalThreshold(val_x, val_y)\n",
    "threshold, F1"
   ]
  },
  {
   "cell_type": "markdown",
   "metadata": {},
   "source": [
    "## Evaluate on Test data"
   ]
  },
  {
   "cell_type": "code",
   "execution_count": 7,
   "metadata": {},
   "outputs": [
    {
     "data": {
      "text/plain": [
       "array([1, 0])"
      ]
     },
     "execution_count": 7,
     "metadata": {},
     "output_type": "execute_result"
    }
   ],
   "source": [
    "test_x = np.array([[15, 13, 41], [3, 7, 40]])\n",
    "a.predict(test_x, threshold)"
   ]
  }
 ],
 "metadata": {
  "kernelspec": {
   "display_name": "Python 3",
   "language": "python",
   "name": "python3"
  },
  "language_info": {
   "codemirror_mode": {
    "name": "ipython",
    "version": 3
   },
   "file_extension": ".py",
   "mimetype": "text/x-python",
   "name": "python",
   "nbconvert_exporter": "python",
   "pygments_lexer": "ipython3",
   "version": "3.7.4"
  }
 },
 "nbformat": 4,
 "nbformat_minor": 2
}
